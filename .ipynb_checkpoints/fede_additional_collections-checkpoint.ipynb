{
 "cells": [
  {
   "cell_type": "code",
   "execution_count": 1,
   "metadata": {},
   "outputs": [
    {
     "name": "stderr",
     "output_type": "stream",
     "text": [
      "/usr/local/lib/python3.9/site-packages/requests/__init__.py:102: RequestsDependencyWarning: urllib3 (1.26.6) or chardet (2.3.0)/charset_normalizer (2.0.4) doesn't match a supported version!\n",
      "  warnings.warn(\"urllib3 ({}) or chardet ({})/charset_normalizer ({}) doesn't match a supported \"\n"
     ]
    }
   ],
   "source": [
    "import qwikidata.sparql as wikidata\n",
    "import requests\n",
    "import json\n",
    "from pprint import pprint"
   ]
  },
  {
   "cell_type": "code",
   "execution_count": 2,
   "metadata": {},
   "outputs": [
    {
     "name": "stdout",
     "output_type": "stream",
     "text": [
      "8\n"
     ]
    }
   ],
   "source": [
    "with open('artchives_keepers.json', 'r') as f:\n",
    "    artchives_keepers = json.load(f).get('results').get('bindings')\n",
    "print(len(artchives_keepers))"
   ]
  },
  {
   "cell_type": "code",
   "execution_count": 3,
   "metadata": {},
   "outputs": [],
   "source": [
    "find_italian_keepers = \"\"\"\n",
    "SELECT DISTINCT ?collection ?colLabel ?keeper\n",
    "WHERE {\n",
    "  ?collection wdt:P1640 ?keeper.\n",
    "  ?collection rdfs:label ?colLabel.\n",
    "  \n",
    "  # only italian keepers\n",
    "  ?keeper wdt:P17 wd:Q38 . \n",
    "}\n",
    "\"\"\""
   ]
  },
  {
   "cell_type": "code",
   "execution_count": 4,
   "metadata": {},
   "outputs": [],
   "source": [
    "find_collections_for_keeper = \"\"\"\n",
    "PREFIX wd: <http://www.wikidata.org/entity/>\n",
    "PREFIX wdp: <http://www.wikidata.org/wiki/Property:>\n",
    "PREFIX art: <https://w3id.org/artchives/>\n",
    "PREFIX rdfs: <http://www.w3.org/2000/01/rdf-schema#>\n",
    "PREFIX wdt: <http://www.wikidata.org/prop/direct/>\n",
    "SELECT DISTINCT ?collection ?colLabel \n",
    "WHERE {{\n",
    "  ?collection wdt:P1640 wd:{}.\n",
    "  ?collection rdfs:label ?colLabel.\n",
    "}}\n",
    "\"\"\""
   ]
  },
  {
   "cell_type": "code",
   "execution_count": 6,
   "metadata": {},
   "outputs": [
    {
     "name": "stdout",
     "output_type": "stream",
     "text": [
      "{'head': {'vars': ['collection', 'colLabel']}, 'results': {'bindings': []}}\n",
      "{'head': {'vars': ['collection', 'colLabel']}, 'results': {'bindings': []}}\n",
      "{'head': {'vars': ['collection', 'colLabel']}, 'results': {'bindings': []}}\n",
      "{'head': {'vars': ['collection', 'colLabel']}, 'results': {'bindings': []}}\n",
      "{'head': {'vars': ['collection', 'colLabel']}, 'results': {'bindings': []}}\n",
      "{'head': {'vars': ['collection', 'colLabel']}, 'results': {'bindings': []}}\n",
      "{'head': {'vars': ['collection', 'colLabel']}, 'results': {'bindings': []}}\n",
      "{'head': {'vars': ['collection', 'colLabel']}, 'results': {'bindings': []}}\n"
     ]
    }
   ],
   "source": [
    "for keeper_entry in artchives_keepers:\n",
    "    keeper = keeper_entry['keeper']['value'].split(\"/\")[-1]\n",
    "    query = find_collections_for_keeper.format(keeper)\n",
    "    res = wikidata.return_sparql_query_results(query)\n",
    "    pprint(res)"
   ]
  }
 ],
 "metadata": {
  "interpreter": {
   "hash": "aee8b7b246df8f9039afb4144a1f6fd8d2ca17a180786b69acc140d282b71a49"
  },
  "kernelspec": {
   "display_name": "Python 3 (ipykernel)",
   "language": "python",
   "name": "python3"
  },
  "language_info": {
   "codemirror_mode": {
    "name": "ipython",
    "version": 3
   },
   "file_extension": ".py",
   "mimetype": "text/x-python",
   "name": "python",
   "nbconvert_exporter": "python",
   "pygments_lexer": "ipython3",
   "version": "3.7.9"
  }
 },
 "nbformat": 4,
 "nbformat_minor": 2
}
