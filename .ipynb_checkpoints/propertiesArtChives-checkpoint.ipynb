{
 "cells": [
  {
   "cell_type": "code",
   "execution_count": 1,
   "id": "f073ee27",
   "metadata": {},
   "outputs": [],
   "source": [
    "import pprint\n",
    "import rdflib\n",
    "from rdflib import URIRef, Literal, Namespace\n",
    "from rdflib.namespace import XSD, RDFS, DCTERMS\n",
    "from rdflib import Literal"
   ]
  },
  {
   "cell_type": "code",
   "execution_count": 2,
   "id": "747fb5ab",
   "metadata": {},
   "outputs": [],
   "source": [
    "# create an empty Graph\n",
    "g = rdflib.ConjunctiveGraph()\n",
    "\n",
    "# parse a local RDF file by specifying the format into the graph\n",
    "result = g.parse(\"../resources/artchives.nq\", format='nquads')"
   ]
  },
  {
   "cell_type": "code",
   "execution_count": 3,
   "id": "ad3ea78f",
   "metadata": {},
   "outputs": [
    {
     "name": "stdout",
     "output_type": "stream",
     "text": [
      "rdflib.term.URIRef('https://w3id.org/artchives/hasHistoricalNotes')\n",
      "rdflib.term.URIRef('http://www.wikidata.org/prop/direct/P127')\n",
      "rdflib.term.URIRef('http://www.wikidata.org/prop/direct/P580')\n",
      "rdflib.term.URIRef('https://w3id.org/artchives/hasSubjectObject')\n",
      "rdflib.term.URIRef('https://w3id.org/artchives/hasAcquisitionType')\n",
      "rdflib.term.URIRef('http://www.wikidata.org/prop/direct/P106')\n",
      "rdflib.term.URIRef('https://w3id.org/artchives/hasSubjectPeriod')\n",
      "rdflib.term.URIRef('http://www.w3.org/2000/01/rdf-schema#label')\n",
      "rdflib.term.URIRef('http://www.wikidata.org/prop/direct/P217')\n",
      "rdflib.term.URIRef('http://www.w3.org/ns/prov#generatedAtTime')\n",
      "rdflib.term.URIRef('http://www.wikidata.org/prop/direct/P27')\n",
      "rdflib.term.URIRef('https://w3id.org/artchives/hasOtherNotes')\n",
      "rdflib.term.URIRef('http://purl.org/dc/terms/description')\n",
      "rdflib.term.URIRef('http://www.wikidata.org/prop/direct/P275')\n",
      "rdflib.term.URIRef('https://w3id.org/artchives/hasAccessConditions')\n",
      "rdflib.term.URIRef('https://w3id.org/artchives/hasSubjectPeople')\n",
      "rdflib.term.URIRef('http://www.wikidata.org/prop/direct/P17')\n",
      "rdflib.term.URIRef('https://w3id.org/artchives/publicationStage')\n",
      "rdflib.term.URIRef('http://www.wikidata.org/prop/direct/P800')\n",
      "rdflib.term.URIRef('http://www.wikidata.org/prop/direct/P1326')\n",
      "rdflib.term.URIRef('http://www.wikidata.org/prop/direct/P1319')\n",
      "rdflib.term.URIRef('https://w3id.org/artchives/hasMainObjectType')\n",
      "rdflib.term.URIRef('https://w3id.org/artchives/hasAggregator')\n",
      "rdflib.term.URIRef('http://www.wikidata.org/prop/direct/P1329')\n",
      "rdflib.term.URIRef('http://www.wikidata.org/prop/direct/P1436')\n",
      "rdflib.term.URIRef('http://www.wikidata.org/prop/direct/P856')\n",
      "rdflib.term.URIRef('https://w3id.org/artchives/hasScopeAndContentSubject')\n",
      "rdflib.term.URIRef('http://www.wikidata.org/prop/direct/P571')\n",
      "rdflib.term.URIRef('https://w3id.org/artchives/hasCataloguingStandard')\n",
      "rdflib.term.URIRef('https://w3id.org/artchives/hasSecondLink')\n",
      "rdflib.term.URIRef('http://www.wikidata.org/prop/direct/P569')\n",
      "rdflib.term.URIRef('http://www.wikidata.org/prop/direct/P485')\n",
      "rdflib.term.URIRef('https://w3id.org/artchives/hasSubjectGenre')\n",
      "rdflib.term.URIRef('http://www.w3.org/1999/02/22-rdf-syntax-ns#type')\n",
      "rdflib.term.URIRef('http://www.wikidata.org/prop/direct/P1830')\n",
      "rdflib.term.URIRef('https://w3id.org/artchives/hasSubjectArtist')\n",
      "rdflib.term.URIRef('https://w3id.org/artchives/hasNotesOnFindingAid')\n",
      "rdflib.term.URIRef('http://www.w3.org/ns/prov#wasGeneratedBy')\n",
      "rdflib.term.URIRef('https://w3id.org/artchives/hasOtherObjectType')\n",
      "rdflib.term.URIRef('http://www.wikidata.org/prop/direct/P570')\n",
      "rdflib.term.URIRef('https://w3id.org/artchives/wikidataReconciliation')\n",
      "rdflib.term.URIRef('http://www.w3.org/ns/prov#wasInfluencedBy')\n",
      "rdflib.term.URIRef('http://www.wikidata.org/prop/direct/P968')\n",
      "rdflib.term.URIRef('http://www.wikidata.org/prop/direct/P969')\n",
      "rdflib.term.URIRef('http://www.wikidata.org/prop/direct/P793')\n",
      "rdflib.term.URIRef('http://www.wikidata.org/prop/direct/P921')\n",
      "rdflib.term.URIRef('http://www.w3.org/2000/01/rdf-schema#comment')\n",
      "rdflib.term.URIRef('http://www.wikidata.org/prop/direct/P131')\n",
      "rdflib.term.URIRef('http://www.wikidata.org/prop/direct/P973')\n",
      "rdflib.term.URIRef('https://w3id.org/artchives/hasFirstLink')\n",
      "rdflib.term.URIRef('https://w3id.org/artchives/hasNotesOnSystemOfArrangement')\n",
      "rdflib.term.URIRef('https://w3id.org/artchives/hasSubjectArtwork')\n",
      "rdflib.term.URIRef('https://w3id.org/artchives/hasNotesOnScopeAndContent')\n",
      "rdflib.term.URIRef('http://www.wikidata.org/prop/direct/P170')\n",
      "rdflib.term.URIRef('https://w3id.org/artchives/hasNotesOnOtherNuclei')\n",
      "rdflib.term.URIRef('http://www.wikidata.org/prop/direct/P582')\n"
     ]
    }
   ],
   "source": [
    "#tutte le properties di artchives\n",
    "unique_prop = set()\n",
    "for subj, pred, obj, context in g.quads():\n",
    "    unique_prop.add(pred)\n",
    "    \n",
    "for pred in unique_prop:\n",
    "    pprint.pprint(pred)"
   ]
  },
  {
   "cell_type": "code",
   "execution_count": 4,
   "id": "4c3e641e",
   "metadata": {},
   "outputs": [],
   "source": [
    "#P485 = archives at the institution holding the subject's archives\n",
    "#P580 = start time \n",
    "#P582 = end time (usati per trovare l'inizio anno e la fine di una collezione/periodo con cui stabilire la media)\n",
    "#P569 = dateofbirth \n",
    "#P570 = dateofdeath\n",
    "#P127 = owned by \n",
    "#P131 = located in the administrative territorial entity\n",
    "#P1830 = owner of \n",
    "#P217 = identifier for a physical object or a set of physical objects in a collection\n",
    "#P1436 = collection or exhibition size: number of items in a collection or exhibition \n",
    "#P106 = occupation of a person \n",
    "#P856 = URL of the official page of an item\n",
    "#P1329 = phonenumber \n",
    "#hasMainObjectType\n",
    "#P17 = sovereign state of this item \n",
    "#P27 = country of citizenship \n",
    "#P170 = creator, maker of this creative work or other object (where no more specific property exists). \n",
    "#!! distingue gli storici dell'arte dalle altre persone \n",
    "#hasSubjectPeriod -> usato per identificare il topic delle collections. quindi per esempio coll hasSubjectPeriod XV secolo\n",
    "#P973 = item is described at the following URL\n",
    "#P793 = significant or notable events associated with the subject \n",
    "#P1319 = earliest date at which an event could have happened. Use as qualifier for other date properties \n",
    "#P571 = time when an entity begins to exist \n",
    "#P800 = notable scientific, artistic or literary work, or other work of significance among subject's works \n",
    "#P921 = main subject (primary topic of a work)\n",
    "#rdf:type\n",
    "#P1326 = latest date. latest possible time that something could have occurred. Use as qualifier for other date properties\n",
    "#hasSubjectArtist ??? "
   ]
  },
  {
   "cell_type": "code",
   "execution_count": null,
   "id": "ea725160",
   "metadata": {},
   "outputs": [],
   "source": []
  }
 ],
 "metadata": {
  "kernelspec": {
   "display_name": "Python 3 (ipykernel)",
   "language": "python",
   "name": "python3"
  },
  "language_info": {
   "codemirror_mode": {
    "name": "ipython",
    "version": 3
   },
   "file_extension": ".py",
   "mimetype": "text/x-python",
   "name": "python",
   "nbconvert_exporter": "python",
   "pygments_lexer": "ipython3",
   "version": "3.7.9"
  }
 },
 "nbformat": 4,
 "nbformat_minor": 5
}
