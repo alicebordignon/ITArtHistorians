{
 "cells": [
  {
   "cell_type": "markdown",
   "metadata": {},
   "source": [
    "# Research Question #1"
   ]
  },
  {
   "cell_type": "markdown",
   "metadata": {},
   "source": [
    "For this research question we focus on the geographical data, by analyzing and overlapping the historians' places of death and birth and the keepers' places."
   ]
  },
  {
   "cell_type": "code",
   "execution_count": 14,
   "metadata": {},
   "outputs": [],
   "source": [
    "import pandas as pd\n",
    "import numpy as np\n",
    "import re\n",
    "import json as js\n"
   ]
  },
  {
   "cell_type": "code",
   "execution_count": 15,
   "metadata": {},
   "outputs": [
    {
     "ename": "ValueError",
     "evalue": "Unexpected character found when decoding array value (2)",
     "output_type": "error",
     "traceback": [
      "\u001b[1;31m---------------------------------------------------------------------------\u001b[0m",
      "\u001b[1;31mValueError\u001b[0m                                Traceback (most recent call last)",
      "\u001b[1;32m\\alicebordignon\\LODtime\\00_DoAH_first_data_analysis.ipynb Cell 4'\u001b[0m in \u001b[0;36m<cell line: 1>\u001b[1;34m()\u001b[0m\n\u001b[1;32m----> <a href='vscode-notebook-cell://github/alicebordignon/LODtime/00_DoAH_first_data_analysis.ipynb#ch0000003vscode-vfs?line=0'>1</a>\u001b[0m data \u001b[39m=\u001b[39m pd\u001b[39m.\u001b[39;49mread_json(\u001b[39m\"\u001b[39;49m\u001b[39m05_db.json\u001b[39;49m\u001b[39m\"\u001b[39;49m, lines\u001b[39m=\u001b[39;49m\u001b[39mTrue\u001b[39;49;00m)\n\u001b[0;32m      <a href='vscode-notebook-cell://github/alicebordignon/LODtime/00_DoAH_first_data_analysis.ipynb#ch0000003vscode-vfs?line=1'>2</a>\u001b[0m pd\u001b[39m.\u001b[39mset_option(\u001b[39m\"\u001b[39m\u001b[39mdisplay.max_rows\u001b[39m\u001b[39m\"\u001b[39m, \u001b[39mNone\u001b[39;00m)\n\u001b[0;32m      <a href='vscode-notebook-cell://github/alicebordignon/LODtime/00_DoAH_first_data_analysis.ipynb#ch0000003vscode-vfs?line=2'>3</a>\u001b[0m data\u001b[39m.\u001b[39mhead(\u001b[39m140\u001b[39m)\n",
      "File \u001b[1;32m~\\AppData\\Local\\Programs\\Python\\Python310\\lib\\site-packages\\pandas\\util\\_decorators.py:207\u001b[0m, in \u001b[0;36mdeprecate_kwarg.<locals>._deprecate_kwarg.<locals>.wrapper\u001b[1;34m(*args, **kwargs)\u001b[0m\n\u001b[0;32m    <a href='file:///c%3A/Users/gabri/AppData/Local/Programs/Python/Python310/lib/site-packages/pandas/util/_decorators.py?line=204'>205</a>\u001b[0m     \u001b[39melse\u001b[39;00m:\n\u001b[0;32m    <a href='file:///c%3A/Users/gabri/AppData/Local/Programs/Python/Python310/lib/site-packages/pandas/util/_decorators.py?line=205'>206</a>\u001b[0m         kwargs[new_arg_name] \u001b[39m=\u001b[39m new_arg_value\n\u001b[1;32m--> <a href='file:///c%3A/Users/gabri/AppData/Local/Programs/Python/Python310/lib/site-packages/pandas/util/_decorators.py?line=206'>207</a>\u001b[0m \u001b[39mreturn\u001b[39;00m func(\u001b[39m*\u001b[39margs, \u001b[39m*\u001b[39m\u001b[39m*\u001b[39mkwargs)\n",
      "File \u001b[1;32m~\\AppData\\Local\\Programs\\Python\\Python310\\lib\\site-packages\\pandas\\util\\_decorators.py:311\u001b[0m, in \u001b[0;36mdeprecate_nonkeyword_arguments.<locals>.decorate.<locals>.wrapper\u001b[1;34m(*args, **kwargs)\u001b[0m\n\u001b[0;32m    <a href='file:///c%3A/Users/gabri/AppData/Local/Programs/Python/Python310/lib/site-packages/pandas/util/_decorators.py?line=304'>305</a>\u001b[0m \u001b[39mif\u001b[39;00m \u001b[39mlen\u001b[39m(args) \u001b[39m>\u001b[39m num_allow_args:\n\u001b[0;32m    <a href='file:///c%3A/Users/gabri/AppData/Local/Programs/Python/Python310/lib/site-packages/pandas/util/_decorators.py?line=305'>306</a>\u001b[0m     warnings\u001b[39m.\u001b[39mwarn(\n\u001b[0;32m    <a href='file:///c%3A/Users/gabri/AppData/Local/Programs/Python/Python310/lib/site-packages/pandas/util/_decorators.py?line=306'>307</a>\u001b[0m         msg\u001b[39m.\u001b[39mformat(arguments\u001b[39m=\u001b[39marguments),\n\u001b[0;32m    <a href='file:///c%3A/Users/gabri/AppData/Local/Programs/Python/Python310/lib/site-packages/pandas/util/_decorators.py?line=307'>308</a>\u001b[0m         \u001b[39mFutureWarning\u001b[39;00m,\n\u001b[0;32m    <a href='file:///c%3A/Users/gabri/AppData/Local/Programs/Python/Python310/lib/site-packages/pandas/util/_decorators.py?line=308'>309</a>\u001b[0m         stacklevel\u001b[39m=\u001b[39mstacklevel,\n\u001b[0;32m    <a href='file:///c%3A/Users/gabri/AppData/Local/Programs/Python/Python310/lib/site-packages/pandas/util/_decorators.py?line=309'>310</a>\u001b[0m     )\n\u001b[1;32m--> <a href='file:///c%3A/Users/gabri/AppData/Local/Programs/Python/Python310/lib/site-packages/pandas/util/_decorators.py?line=310'>311</a>\u001b[0m \u001b[39mreturn\u001b[39;00m func(\u001b[39m*\u001b[39margs, \u001b[39m*\u001b[39m\u001b[39m*\u001b[39mkwargs)\n",
      "File \u001b[1;32m~\\AppData\\Local\\Programs\\Python\\Python310\\lib\\site-packages\\pandas\\io\\json\\_json.py:612\u001b[0m, in \u001b[0;36mread_json\u001b[1;34m(path_or_buf, orient, typ, dtype, convert_axes, convert_dates, keep_default_dates, numpy, precise_float, date_unit, encoding, encoding_errors, lines, chunksize, compression, nrows, storage_options)\u001b[0m\n\u001b[0;32m    <a href='file:///c%3A/Users/gabri/AppData/Local/Programs/Python/Python310/lib/site-packages/pandas/io/json/_json.py?line=608'>609</a>\u001b[0m     \u001b[39mreturn\u001b[39;00m json_reader\n\u001b[0;32m    <a href='file:///c%3A/Users/gabri/AppData/Local/Programs/Python/Python310/lib/site-packages/pandas/io/json/_json.py?line=610'>611</a>\u001b[0m \u001b[39mwith\u001b[39;00m json_reader:\n\u001b[1;32m--> <a href='file:///c%3A/Users/gabri/AppData/Local/Programs/Python/Python310/lib/site-packages/pandas/io/json/_json.py?line=611'>612</a>\u001b[0m     \u001b[39mreturn\u001b[39;00m json_reader\u001b[39m.\u001b[39;49mread()\n",
      "File \u001b[1;32m~\\AppData\\Local\\Programs\\Python\\Python310\\lib\\site-packages\\pandas\\io\\json\\_json.py:744\u001b[0m, in \u001b[0;36mJsonReader.read\u001b[1;34m(self)\u001b[0m\n\u001b[0;32m    <a href='file:///c%3A/Users/gabri/AppData/Local/Programs/Python/Python310/lib/site-packages/pandas/io/json/_json.py?line=741'>742</a>\u001b[0m         data \u001b[39m=\u001b[39m ensure_str(\u001b[39mself\u001b[39m\u001b[39m.\u001b[39mdata)\n\u001b[0;32m    <a href='file:///c%3A/Users/gabri/AppData/Local/Programs/Python/Python310/lib/site-packages/pandas/io/json/_json.py?line=742'>743</a>\u001b[0m         data_lines \u001b[39m=\u001b[39m data\u001b[39m.\u001b[39msplit(\u001b[39m\"\u001b[39m\u001b[39m\\n\u001b[39;00m\u001b[39m\"\u001b[39m)\n\u001b[1;32m--> <a href='file:///c%3A/Users/gabri/AppData/Local/Programs/Python/Python310/lib/site-packages/pandas/io/json/_json.py?line=743'>744</a>\u001b[0m         obj \u001b[39m=\u001b[39m \u001b[39mself\u001b[39;49m\u001b[39m.\u001b[39;49m_get_object_parser(\u001b[39mself\u001b[39;49m\u001b[39m.\u001b[39;49m_combine_lines(data_lines))\n\u001b[0;32m    <a href='file:///c%3A/Users/gabri/AppData/Local/Programs/Python/Python310/lib/site-packages/pandas/io/json/_json.py?line=744'>745</a>\u001b[0m \u001b[39melse\u001b[39;00m:\n\u001b[0;32m    <a href='file:///c%3A/Users/gabri/AppData/Local/Programs/Python/Python310/lib/site-packages/pandas/io/json/_json.py?line=745'>746</a>\u001b[0m     obj \u001b[39m=\u001b[39m \u001b[39mself\u001b[39m\u001b[39m.\u001b[39m_get_object_parser(\u001b[39mself\u001b[39m\u001b[39m.\u001b[39mdata)\n",
      "File \u001b[1;32m~\\AppData\\Local\\Programs\\Python\\Python310\\lib\\site-packages\\pandas\\io\\json\\_json.py:768\u001b[0m, in \u001b[0;36mJsonReader._get_object_parser\u001b[1;34m(self, json)\u001b[0m\n\u001b[0;32m    <a href='file:///c%3A/Users/gabri/AppData/Local/Programs/Python/Python310/lib/site-packages/pandas/io/json/_json.py?line=765'>766</a>\u001b[0m obj \u001b[39m=\u001b[39m \u001b[39mNone\u001b[39;00m\n\u001b[0;32m    <a href='file:///c%3A/Users/gabri/AppData/Local/Programs/Python/Python310/lib/site-packages/pandas/io/json/_json.py?line=766'>767</a>\u001b[0m \u001b[39mif\u001b[39;00m typ \u001b[39m==\u001b[39m \u001b[39m\"\u001b[39m\u001b[39mframe\u001b[39m\u001b[39m\"\u001b[39m:\n\u001b[1;32m--> <a href='file:///c%3A/Users/gabri/AppData/Local/Programs/Python/Python310/lib/site-packages/pandas/io/json/_json.py?line=767'>768</a>\u001b[0m     obj \u001b[39m=\u001b[39m FrameParser(json, \u001b[39m*\u001b[39;49m\u001b[39m*\u001b[39;49mkwargs)\u001b[39m.\u001b[39;49mparse()\n\u001b[0;32m    <a href='file:///c%3A/Users/gabri/AppData/Local/Programs/Python/Python310/lib/site-packages/pandas/io/json/_json.py?line=769'>770</a>\u001b[0m \u001b[39mif\u001b[39;00m typ \u001b[39m==\u001b[39m \u001b[39m\"\u001b[39m\u001b[39mseries\u001b[39m\u001b[39m\"\u001b[39m \u001b[39mor\u001b[39;00m obj \u001b[39mis\u001b[39;00m \u001b[39mNone\u001b[39;00m:\n\u001b[0;32m    <a href='file:///c%3A/Users/gabri/AppData/Local/Programs/Python/Python310/lib/site-packages/pandas/io/json/_json.py?line=770'>771</a>\u001b[0m     \u001b[39mif\u001b[39;00m \u001b[39mnot\u001b[39;00m \u001b[39misinstance\u001b[39m(dtype, \u001b[39mbool\u001b[39m):\n",
      "File \u001b[1;32m~\\AppData\\Local\\Programs\\Python\\Python310\\lib\\site-packages\\pandas\\io\\json\\_json.py:880\u001b[0m, in \u001b[0;36mParser.parse\u001b[1;34m(self)\u001b[0m\n\u001b[0;32m    <a href='file:///c%3A/Users/gabri/AppData/Local/Programs/Python/Python310/lib/site-packages/pandas/io/json/_json.py?line=877'>878</a>\u001b[0m     \u001b[39mself\u001b[39m\u001b[39m.\u001b[39m_parse_numpy()\n\u001b[0;32m    <a href='file:///c%3A/Users/gabri/AppData/Local/Programs/Python/Python310/lib/site-packages/pandas/io/json/_json.py?line=878'>879</a>\u001b[0m \u001b[39melse\u001b[39;00m:\n\u001b[1;32m--> <a href='file:///c%3A/Users/gabri/AppData/Local/Programs/Python/Python310/lib/site-packages/pandas/io/json/_json.py?line=879'>880</a>\u001b[0m     \u001b[39mself\u001b[39;49m\u001b[39m.\u001b[39;49m_parse_no_numpy()\n\u001b[0;32m    <a href='file:///c%3A/Users/gabri/AppData/Local/Programs/Python/Python310/lib/site-packages/pandas/io/json/_json.py?line=881'>882</a>\u001b[0m \u001b[39mif\u001b[39;00m \u001b[39mself\u001b[39m\u001b[39m.\u001b[39mobj \u001b[39mis\u001b[39;00m \u001b[39mNone\u001b[39;00m:\n\u001b[0;32m    <a href='file:///c%3A/Users/gabri/AppData/Local/Programs/Python/Python310/lib/site-packages/pandas/io/json/_json.py?line=882'>883</a>\u001b[0m     \u001b[39mreturn\u001b[39;00m \u001b[39mNone\u001b[39;00m\n",
      "File \u001b[1;32m~\\AppData\\Local\\Programs\\Python\\Python310\\lib\\site-packages\\pandas\\io\\json\\_json.py:1133\u001b[0m, in \u001b[0;36mFrameParser._parse_no_numpy\u001b[1;34m(self)\u001b[0m\n\u001b[0;32m   <a href='file:///c%3A/Users/gabri/AppData/Local/Programs/Python/Python310/lib/site-packages/pandas/io/json/_json.py?line=1128'>1129</a>\u001b[0m orient \u001b[39m=\u001b[39m \u001b[39mself\u001b[39m\u001b[39m.\u001b[39morient\n\u001b[0;32m   <a href='file:///c%3A/Users/gabri/AppData/Local/Programs/Python/Python310/lib/site-packages/pandas/io/json/_json.py?line=1130'>1131</a>\u001b[0m \u001b[39mif\u001b[39;00m orient \u001b[39m==\u001b[39m \u001b[39m\"\u001b[39m\u001b[39mcolumns\u001b[39m\u001b[39m\"\u001b[39m:\n\u001b[0;32m   <a href='file:///c%3A/Users/gabri/AppData/Local/Programs/Python/Python310/lib/site-packages/pandas/io/json/_json.py?line=1131'>1132</a>\u001b[0m     \u001b[39mself\u001b[39m\u001b[39m.\u001b[39mobj \u001b[39m=\u001b[39m DataFrame(\n\u001b[1;32m-> <a href='file:///c%3A/Users/gabri/AppData/Local/Programs/Python/Python310/lib/site-packages/pandas/io/json/_json.py?line=1132'>1133</a>\u001b[0m         loads(json, precise_float\u001b[39m=\u001b[39;49m\u001b[39mself\u001b[39;49m\u001b[39m.\u001b[39;49mprecise_float), dtype\u001b[39m=\u001b[39m\u001b[39mNone\u001b[39;00m\n\u001b[0;32m   <a href='file:///c%3A/Users/gabri/AppData/Local/Programs/Python/Python310/lib/site-packages/pandas/io/json/_json.py?line=1133'>1134</a>\u001b[0m     )\n\u001b[0;32m   <a href='file:///c%3A/Users/gabri/AppData/Local/Programs/Python/Python310/lib/site-packages/pandas/io/json/_json.py?line=1134'>1135</a>\u001b[0m \u001b[39melif\u001b[39;00m orient \u001b[39m==\u001b[39m \u001b[39m\"\u001b[39m\u001b[39msplit\u001b[39m\u001b[39m\"\u001b[39m:\n\u001b[0;32m   <a href='file:///c%3A/Users/gabri/AppData/Local/Programs/Python/Python310/lib/site-packages/pandas/io/json/_json.py?line=1135'>1136</a>\u001b[0m     decoded \u001b[39m=\u001b[39m {\n\u001b[0;32m   <a href='file:///c%3A/Users/gabri/AppData/Local/Programs/Python/Python310/lib/site-packages/pandas/io/json/_json.py?line=1136'>1137</a>\u001b[0m         \u001b[39mstr\u001b[39m(k): v\n\u001b[0;32m   <a href='file:///c%3A/Users/gabri/AppData/Local/Programs/Python/Python310/lib/site-packages/pandas/io/json/_json.py?line=1137'>1138</a>\u001b[0m         \u001b[39mfor\u001b[39;00m k, v \u001b[39min\u001b[39;00m loads(json, precise_float\u001b[39m=\u001b[39m\u001b[39mself\u001b[39m\u001b[39m.\u001b[39mprecise_float)\u001b[39m.\u001b[39mitems()\n\u001b[0;32m   <a href='file:///c%3A/Users/gabri/AppData/Local/Programs/Python/Python310/lib/site-packages/pandas/io/json/_json.py?line=1138'>1139</a>\u001b[0m     }\n",
      "\u001b[1;31mValueError\u001b[0m: Unexpected character found when decoding array value (2)"
     ]
    }
   ],
   "source": [
    "data = pd.read_json(\"05_db.json\", lines=True)\n",
    "pd.set_option(\"display.max_rows\", None)\n",
    "data.head(140) "
   ]
  }
 ],
 "metadata": {
  "interpreter": {
   "hash": "6f1a4c8fe0c55dec48ea5703cf2acc5f66ea4bdc5645e45c99b09a02a6560735"
  },
  "kernelspec": {
   "display_name": "Python 3.10.2 64-bit",
   "language": "python",
   "name": "python3"
  },
  "language_info": {
   "codemirror_mode": {
    "name": "ipython",
    "version": 3
   },
   "file_extension": ".py",
   "mimetype": "text/x-python",
   "name": "python",
   "nbconvert_exporter": "python",
   "pygments_lexer": "ipython3",
   "version": "3.10.2"
  },
  "orig_nbformat": 4
 },
 "nbformat": 4,
 "nbformat_minor": 2
}
