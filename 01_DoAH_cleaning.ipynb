{
 "cells": [
  {
   "cell_type": "code",
   "execution_count": 2,
   "id": "729014fa",
   "metadata": {},
   "outputs": [],
   "source": [
    "import rdflib\n",
    "from rdflib import Namespace , Literal , URIRef\n",
    "from rdflib.namespace import RDF , RDFS"
   ]
  },
  {
   "cell_type": "code",
   "execution_count": 2,
   "id": "7032f91b",
   "metadata": {},
   "outputs": [],
   "source": [
    "g = rdflib.ConjunctiveGraph()\n",
    "\n",
    "# parse a local RDF file by specifying the format\n",
    "result = g.parse(\"artchives_birthplaces.nq\", format='nquads')"
   ]
  },
  {
   "cell_type": "code",
   "execution_count": 3,
   "id": "4754329a",
   "metadata": {},
   "outputs": [],
   "source": [
    "wd = Namespace(\"http://www.wikidata.org/entity/\") # remember that a prefix matches a URI until the last slash (or hashtag #)\n",
    "wdt = Namespace(\"http://www.wikidata.org/prop/direct/\")\n",
    "art = Namespace(\"https://w3id.org/artchives/\")"
   ]
  },
  {
   "cell_type": "code",
   "execution_count": 4,
   "id": "2003d992",
   "metadata": {},
   "outputs": [
    {
     "name": "stdout",
     "output_type": "stream",
     "text": [
      "{'<http://www.wikidata.org/entity/Q1089074>', '<http://www.wikidata.org/entity/Q90407>', '<http://www.wikidata.org/entity/Q1296486>', '<http://www.wikidata.org/entity/Q6700132>', '<http://www.wikidata.org/entity/Q1715096>', '<http://www.wikidata.org/entity/Q457739>', '<http://www.wikidata.org/entity/Q60185>', '<http://www.wikidata.org/entity/Q1373290>', '<http://www.wikidata.org/entity/Q18935222>', '<http://www.wikidata.org/entity/Q55453618>', '<http://www.wikidata.org/entity/Q2824734>', '<http://www.wikidata.org/entity/Q1271052>', '<http://www.wikidata.org/entity/Q1641821>', '<http://www.wikidata.org/entity/Q19997512>', '<http://www.wikidata.org/entity/Q61913691>', '<http://www.wikidata.org/entity/Q995470>', '<http://www.wikidata.org/entity/Q1629748>', '<http://www.wikidata.org/entity/Q85761254>', '<http://www.wikidata.org/entity/Q3051533>', '<http://www.wikidata.org/entity/Q41616785>', '<http://www.wikidata.org/entity/Q3057287>', '<http://www.wikidata.org/entity/Q537874>', '<http://www.wikidata.org/entity/Q1712683>', '<http://www.wikidata.org/entity/Q88907>'}\n"
     ]
    }
   ],
   "source": [
    "# Get the list of art historians in our graph \"g\"\n",
    "arthistorians_list = set()\n",
    "\n",
    "# iterate over the triples in the graph\n",
    "for s,p,o in g.triples(( None, wdt.P170, None)):   \n",
    "    if \"wikidata.org/entity/\" in str(o):           \n",
    "        arthistorians_list.add('<' + str(o) + '>')     \n",
    "    \n",
    "print(arthistorians_list)"
   ]
  },
  {
   "cell_type": "code",
   "execution_count": 181,
   "id": "cc607823",
   "metadata": {},
   "outputs": [
    {
     "name": "stdout",
     "output_type": "stream",
     "text": [
      "set()\n"
     ]
    }
   ],
   "source": [
    "#volevo ottenere solo i labels degli storici ma qualcosa è sbagliato\n",
    "from rdflib.namespace import RDFS\n",
    "AH = set()\n",
    "\n",
    "for s,p,o in g.triples((wd.Q5, wdt.P170, None)):\n",
    "    for s1,p1,o1 in g.triples((RDFS.label, p, None)):\n",
    "        AH.add(s1.strip())\n",
    "        \n",
    "print(AH)"
   ]
  },
  {
   "cell_type": "markdown",
   "id": "79f688c9",
   "metadata": {},
   "source": [
    "# Step 1\n",
    "We import the .csv file of the Database of Art Historians filtered by nationality ('it') and create a pandas dataframe to easily store and manipulate this information."
   ]
  },
  {
   "cell_type": "code",
   "execution_count": 1,
   "id": "ce231cc2",
   "metadata": {},
   "outputs": [],
   "source": [
    "import pandas as pd"
   ]
  },
  {
   "cell_type": "code",
   "execution_count": 2,
   "id": "502b6c7e",
   "metadata": {},
   "outputs": [
    {
     "data": {
      "text/html": [
       "<div>\n",
       "<style scoped>\n",
       "    .dataframe tbody tr th:only-of-type {\n",
       "        vertical-align: middle;\n",
       "    }\n",
       "\n",
       "    .dataframe tbody tr th {\n",
       "        vertical-align: top;\n",
       "    }\n",
       "\n",
       "    .dataframe thead th {\n",
       "        text-align: right;\n",
       "    }\n",
       "</style>\n",
       "<table border=\"1\" class=\"dataframe\">\n",
       "  <thead>\n",
       "    <tr style=\"text-align: right;\">\n",
       "      <th></th>\n",
       "      <th>Full Name</th>\n",
       "      <th>Gender</th>\n",
       "      <th>Archives</th>\n",
       "    </tr>\n",
       "  </thead>\n",
       "  <tbody>\n",
       "    <tr>\n",
       "      <th>0</th>\n",
       "      <td>Accascina, Maria</td>\n",
       "      <td>female</td>\n",
       "      <td>Comune di Palermo Concetta Di Natale, Maria Ma...</td>\n",
       "    </tr>\n",
       "    <tr>\n",
       "      <th>1</th>\n",
       "      <td>Argan, Giulio Carlo</td>\n",
       "      <td>male</td>\n",
       "      <td>Private Archive in Rome.</td>\n",
       "    </tr>\n",
       "    <tr>\n",
       "      <th>2</th>\n",
       "      <td>Bellosi, Luciano</td>\n",
       "      <td>male</td>\n",
       "      <td>\\n\\tArchivio Lucino Bellosi, Biblioteca Umanis...</td>\n",
       "    </tr>\n",
       "    <tr>\n",
       "      <th>3</th>\n",
       "      <td>Bertini Calosso, Achille</td>\n",
       "      <td>male</td>\n",
       "      <td>Fondo Bertini Calosso, Istituto Nazionale di A...</td>\n",
       "    </tr>\n",
       "    <tr>\n",
       "      <th>4</th>\n",
       "      <td>Bianchi Bandinelli, Ranuccio</td>\n",
       "      <td>male</td>\n",
       "      <td>Ranuccio Bianchi Bandinelli, lâ€™Archivio di S...</td>\n",
       "    </tr>\n",
       "  </tbody>\n",
       "</table>\n",
       "</div>"
      ],
      "text/plain": [
       "                      Full Name  Gender  \\\n",
       "0              Accascina, Maria  female   \n",
       "1           Argan, Giulio Carlo    male   \n",
       "2              Bellosi, Luciano    male   \n",
       "3      Bertini Calosso, Achille    male   \n",
       "4  Bianchi Bandinelli, Ranuccio    male   \n",
       "\n",
       "                                            Archives  \n",
       "0  Comune di Palermo Concetta Di Natale, Maria Ma...  \n",
       "1                           Private Archive in Rome.  \n",
       "2  \\n\\tArchivio Lucino Bellosi, Biblioteca Umanis...  \n",
       "3  Fondo Bertini Calosso, Istituto Nazionale di A...  \n",
       "4  Ranuccio Bianchi Bandinelli, lâ€™Archivio di S...  "
      ]
     },
     "execution_count": 2,
     "metadata": {},
     "output_type": "execute_result"
    }
   ],
   "source": [
    "\n",
    "# create first dataframe only using the specified columns \n",
    "data = pd.read_csv(\"DoAH_StoriciItaliani_csvseparatodavirgole.csv\",\n",
    "                    usecols=[\"Full Name\", \"Gender\", \"Archives\"])\n",
    "\n",
    "# axis 0 to drop the rows, subset to only remove NaNs from the column Archives\n",
    "data.dropna(axis=0, subset=[\"Archives\"], inplace=True)\n",
    "\n",
    "# remove all duplicate rows\n",
    "data.drop_duplicates(inplace=True)\n",
    "\n",
    "# resetting the index because all deleted rows have changed the length of the dataframe\n",
    "data.reset_index(inplace=True, drop=True)\n",
    "\n",
    "# .pickle is a python serialization format for easy and quick read-write, and pandas supports it natively\n",
    "data.to_pickle(\"database_degli_eroi.pickle\")\n",
    "\n",
    "# the first table we have looks like this:\n",
    "data.head()"
   ]
  },
  {
   "cell_type": "markdown",
   "id": "610a9705",
   "metadata": {},
   "source": [
    "# To resolve:\n",
    "0. utf-8 chars are not always displayed correctly: fix with regex?\n",
    "1. full names are reversed (`surname, name`)\n",
    "2. we need to have a controlled entity (`wd:xyz`) for each name, to be able to link them to other info\n",
    "3. archives are a list of strings "
   ]
  },
  {
   "cell_type": "code",
   "execution_count": 3,
   "id": "ce4cae2a",
   "metadata": {},
   "outputs": [],
   "source": [
    "def reformat_names(name):\n",
    "    \"\"\" reverse names from surname,name format to name surname \"\"\"\n",
    "    l = name.split(\", \")\n",
    "    new = \" \".join(reversed(l))\n",
    "    return new"
   ]
  },
  {
   "cell_type": "code",
   "execution_count": 4,
   "id": "6eeb869b",
   "metadata": {},
   "outputs": [
    {
     "data": {
      "text/html": [
       "<div>\n",
       "<style scoped>\n",
       "    .dataframe tbody tr th:only-of-type {\n",
       "        vertical-align: middle;\n",
       "    }\n",
       "\n",
       "    .dataframe tbody tr th {\n",
       "        vertical-align: top;\n",
       "    }\n",
       "\n",
       "    .dataframe thead th {\n",
       "        text-align: right;\n",
       "    }\n",
       "</style>\n",
       "<table border=\"1\" class=\"dataframe\">\n",
       "  <thead>\n",
       "    <tr style=\"text-align: right;\">\n",
       "      <th></th>\n",
       "      <th>Full Name</th>\n",
       "      <th>Gender</th>\n",
       "      <th>Archives</th>\n",
       "    </tr>\n",
       "  </thead>\n",
       "  <tbody>\n",
       "    <tr>\n",
       "      <th>0</th>\n",
       "      <td>Maria Accascina</td>\n",
       "      <td>female</td>\n",
       "      <td>Comune di Palermo Concetta Di Natale, Maria Ma...</td>\n",
       "    </tr>\n",
       "    <tr>\n",
       "      <th>1</th>\n",
       "      <td>Giulio Carlo Argan</td>\n",
       "      <td>male</td>\n",
       "      <td>Private Archive in Rome.</td>\n",
       "    </tr>\n",
       "    <tr>\n",
       "      <th>2</th>\n",
       "      <td>Luciano Bellosi</td>\n",
       "      <td>male</td>\n",
       "      <td>\\n\\tArchivio Lucino Bellosi, Biblioteca Umanis...</td>\n",
       "    </tr>\n",
       "    <tr>\n",
       "      <th>3</th>\n",
       "      <td>Achille Bertini Calosso</td>\n",
       "      <td>male</td>\n",
       "      <td>Fondo Bertini Calosso, Istituto Nazionale di A...</td>\n",
       "    </tr>\n",
       "    <tr>\n",
       "      <th>4</th>\n",
       "      <td>Ranuccio Bianchi Bandinelli</td>\n",
       "      <td>male</td>\n",
       "      <td>Ranuccio Bianchi Bandinelli, lâ€™Archivio di S...</td>\n",
       "    </tr>\n",
       "  </tbody>\n",
       "</table>\n",
       "</div>"
      ],
      "text/plain": [
       "                     Full Name  Gender  \\\n",
       "0              Maria Accascina  female   \n",
       "1           Giulio Carlo Argan    male   \n",
       "2              Luciano Bellosi    male   \n",
       "3      Achille Bertini Calosso    male   \n",
       "4  Ranuccio Bianchi Bandinelli    male   \n",
       "\n",
       "                                            Archives  \n",
       "0  Comune di Palermo Concetta Di Natale, Maria Ma...  \n",
       "1                           Private Archive in Rome.  \n",
       "2  \\n\\tArchivio Lucino Bellosi, Biblioteca Umanis...  \n",
       "3  Fondo Bertini Calosso, Istituto Nazionale di A...  \n",
       "4  Ranuccio Bianchi Bandinelli, lâ€™Archivio di S...  "
      ]
     },
     "execution_count": 4,
     "metadata": {},
     "output_type": "execute_result"
    }
   ],
   "source": [
    "# reverse names and remove duplicate whitespace\n",
    "data[\"Full Name\"] = data[\"Full Name\"].apply(reformat_names)\n",
    "data[\"Full Name\"] = data[\"Full Name\"].apply(lambda x: x.replace(\"  \", \" \"))\n",
    "data[\"Full Name\"] = data[\"Full Name\"].apply(lambda x: x.replace(\"-\", \" \"))\n",
    "\n",
    "data.head()"
   ]
  },
  {
   "cell_type": "code",
   "execution_count": 5,
   "id": "b68a453c",
   "metadata": {},
   "outputs": [
    {
     "name": "stderr",
     "output_type": "stream",
     "text": [
      "/usr/local/lib/python3.9/site-packages/requests/__init__.py:102: RequestsDependencyWarning: urllib3 (1.26.6) or chardet (2.3.0)/charset_normalizer (2.0.4) doesn't match a supported version!\n",
      "  warnings.warn(\"urllib3 ({}) or chardet ({})/charset_normalizer ({}) doesn't match a supported \"\n"
     ]
    }
   ],
   "source": [
    "# python3 -m pip install qwikidata\n",
    "# python library for working with sparql and linked data from WikiData\n",
    "from qwikidata.sparql import return_sparql_query_results"
   ]
  },
  {
   "cell_type": "code",
   "execution_count": 6,
   "id": "8e1efeff",
   "metadata": {},
   "outputs": [],
   "source": [
    "historian_entity_from_label = \"\"\"\n",
    "PREFIX rdfs: <http://www.w3.org/2000/01/rdf-schema#>\n",
    "SELECT DISTINCT ?artHistorian ?o\n",
    "WHERE {{\n",
    "    OPTIONAL{{\n",
    "        ?artHistorian wdt:P106 wd:Q1792450 .\n",
    "    }}\n",
    "    ?artHistorian wdt:P31 wd:Q5 .\n",
    "    ?artHistorian rdfs:label ?o \n",
    "                  FILTER ( str(?o) = \"{}\" )  \n",
    "                  FILTER ( lang(?o) = \"it\" ).\n",
    "}}\n",
    "\"\"\""
   ]
  },
  {
   "cell_type": "code",
   "execution_count": 7,
   "id": "95abb26a",
   "metadata": {},
   "outputs": [],
   "source": [
    "def find_historian_entity_from_name(name: str):\n",
    "    if name.startswith(\"conte\"):\n",
    "        name = name.lstrip(\"conte \")\n",
    "    query = historian_entity_from_label.format(name)\n",
    "    res = return_sparql_query_results(query_string=query)\n",
    "    try:\n",
    "        wdt_uri = res['results']['bindings'][0]['artHistorian']['value']\n",
    "    except (IndexError, KeyError):\n",
    "        return \"\"\n",
    "    return wdt_uri.split(\"/\")[-1]"
   ]
  },
  {
   "cell_type": "code",
   "execution_count": 8,
   "id": "34586daf",
   "metadata": {},
   "outputs": [
    {
     "data": {
      "text/html": [
       "<div>\n",
       "<style scoped>\n",
       "    .dataframe tbody tr th:only-of-type {\n",
       "        vertical-align: middle;\n",
       "    }\n",
       "\n",
       "    .dataframe tbody tr th {\n",
       "        vertical-align: top;\n",
       "    }\n",
       "\n",
       "    .dataframe thead th {\n",
       "        text-align: right;\n",
       "    }\n",
       "</style>\n",
       "<table border=\"1\" class=\"dataframe\">\n",
       "  <thead>\n",
       "    <tr style=\"text-align: right;\">\n",
       "      <th></th>\n",
       "      <th>Full Name</th>\n",
       "      <th>Gender</th>\n",
       "      <th>Archives</th>\n",
       "      <th>Historian Entity</th>\n",
       "    </tr>\n",
       "  </thead>\n",
       "  <tbody>\n",
       "    <tr>\n",
       "      <th>0</th>\n",
       "      <td>Maria Accascina</td>\n",
       "      <td>female</td>\n",
       "      <td>Comune di Palermo Concetta Di Natale, Maria Ma...</td>\n",
       "      <td>Q98804253</td>\n",
       "    </tr>\n",
       "    <tr>\n",
       "      <th>1</th>\n",
       "      <td>Giulio Carlo Argan</td>\n",
       "      <td>male</td>\n",
       "      <td>Private Archive in Rome.</td>\n",
       "      <td>Q778445</td>\n",
       "    </tr>\n",
       "    <tr>\n",
       "      <th>2</th>\n",
       "      <td>Luciano Bellosi</td>\n",
       "      <td>male</td>\n",
       "      <td>\\n\\tArchivio Lucino Bellosi, Biblioteca Umanis...</td>\n",
       "      <td>Q1058859</td>\n",
       "    </tr>\n",
       "    <tr>\n",
       "      <th>3</th>\n",
       "      <td>Achille Bertini Calosso</td>\n",
       "      <td>male</td>\n",
       "      <td>Fondo Bertini Calosso, Istituto Nazionale di A...</td>\n",
       "      <td>Q19753744</td>\n",
       "    </tr>\n",
       "    <tr>\n",
       "      <th>4</th>\n",
       "      <td>Ranuccio Bianchi Bandinelli</td>\n",
       "      <td>male</td>\n",
       "      <td>Ranuccio Bianchi Bandinelli, lâ€™Archivio di S...</td>\n",
       "      <td>Q471179</td>\n",
       "    </tr>\n",
       "  </tbody>\n",
       "</table>\n",
       "</div>"
      ],
      "text/plain": [
       "                     Full Name  Gender  \\\n",
       "0              Maria Accascina  female   \n",
       "1           Giulio Carlo Argan    male   \n",
       "2              Luciano Bellosi    male   \n",
       "3      Achille Bertini Calosso    male   \n",
       "4  Ranuccio Bianchi Bandinelli    male   \n",
       "\n",
       "                                            Archives Historian Entity  \n",
       "0  Comune di Palermo Concetta Di Natale, Maria Ma...        Q98804253  \n",
       "1                           Private Archive in Rome.          Q778445  \n",
       "2  \\n\\tArchivio Lucino Bellosi, Biblioteca Umanis...         Q1058859  \n",
       "3  Fondo Bertini Calosso, Istituto Nazionale di A...        Q19753744  \n",
       "4  Ranuccio Bianchi Bandinelli, lâ€™Archivio di S...          Q471179  "
      ]
     },
     "execution_count": 8,
     "metadata": {},
     "output_type": "execute_result"
    }
   ],
   "source": [
    "data[\"Historian Entity\"] = data[\"Full Name\"].apply(find_historian_entity_from_name)\n",
    "data.to_pickle(\"database_degli_eroi.pickle\")\n",
    "data.head()"
   ]
  },
  {
   "cell_type": "markdown",
   "id": "4e08dee9",
   "metadata": {},
   "source": []
  }
 ],
 "metadata": {
  "kernelspec": {
   "display_name": "Python 3 (ipykernel)",
   "language": "python",
   "name": "python3"
  },
  "language_info": {
   "codemirror_mode": {
    "name": "ipython",
    "version": 3
   },
   "file_extension": ".py",
   "mimetype": "text/x-python",
   "name": "python",
   "nbconvert_exporter": "python",
   "pygments_lexer": "ipython3",
   "version": "3.9.10"
  }
 },
 "nbformat": 4,
 "nbformat_minor": 5
}
