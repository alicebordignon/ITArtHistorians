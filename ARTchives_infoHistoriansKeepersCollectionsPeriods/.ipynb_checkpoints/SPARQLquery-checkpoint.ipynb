{
 "cells": [
  {
   "cell_type": "code",
   "execution_count": 1,
   "id": "65387cfd",
   "metadata": {},
   "outputs": [],
   "source": [
    "collections_keepers_historians_info =\"\"\"\n",
    "PREFIX wd: <http://www.wikidata.org/entity/>\n",
    "PREFIX wdp: <http://www.wikidata.org/wiki/Property:>\n",
    "PREFIX art: <https://w3id.org/artchives/>\n",
    "PREFIX rdfs: <http://www.w3.org/2000/01/rdf-schema#>\n",
    "PREFIX wdt: <http://www.wikidata.org/prop/direct/>\n",
    "\tSELECT DISTINCT *\n",
    "\tWHERE\n",
    "\t{ GRAPH ?g {\n",
    "\t\t?keeper a wd:Q31855 ; rdfs:label ?nameKeeper .\n",
    "    \t?collection rdf:type wd:Q9388534 ; rdfs:label ?collectionLabel ; wdp:P170 ?artHistorian ; wdp:P1436 ?numberOfItems . \n",
    "    \t?artHistorian rdfs:label ?artHistorianName . \n",
    "\t\t\t\tOPTIONAL {?collection art:hasSubjectPeriod ?period . ?period rdfs:label ?periodLabel . }\n",
    "    \t\t\t#OPTIONAL {?collection wdp:P921 ?mainSubject . ?mainSubject rdfs:label ?mainSubjectLabel  . } #riporta tutti i soggetti trattati dalla collezione, appesantisce la query \n",
    "\t\t\t\tOPTIONAL {\t?keeper wdp:P969 ?address .}\n",
    "\t\t\t\tOPTIONAL {\t?keeper wdp:P131 ?cityKeeper .\n",
    "\t\t\t\t\t\t\t?cityKeeper rdfs:label ?cityKeeperLabel .\n",
    "\t\t\t\tOPTIONAL {?cityKeeper wdp:P131 ?districtKeeper . ?districtKeeper rdfs:label ?districtKeeperLabel . }\n",
    "\t\t\t\t\t\t }\n",
    "   \n",
    "\t\t\t\tOPTIONAL {\t?keeper wdp:P17 ?countryKeeper . ?countryKeeper rdfs:label ?countryKeeperLabel  . }\n",
    "\t\t\t\t#OPTIONAL {\t?keeper wdp:P1329 ?phone .}\n",
    "\t\t\t\t#OPTIONAL {\t?keeper wdp:P968 ?email .}\n",
    "\t\t\t\tOPTIONAL {\t?keeper wdp:P856 ?websiteKeeper .}\n",
    "\t\t\t}\n",
    "\t\t}\n",
    "\"\"\""
   ]
  },
  {
   "cell_type": "code",
   "execution_count": null,
   "id": "9a4fbc27",
   "metadata": {},
   "outputs": [],
   "source": []
  }
 ],
 "metadata": {
  "kernelspec": {
   "display_name": "Python 3 (ipykernel)",
   "language": "python",
   "name": "python3"
  },
  "language_info": {
   "codemirror_mode": {
    "name": "ipython",
    "version": 3
   },
   "file_extension": ".py",
   "mimetype": "text/x-python",
   "name": "python",
   "nbconvert_exporter": "python",
   "pygments_lexer": "ipython3",
   "version": "3.7.9"
  }
 },
 "nbformat": 4,
 "nbformat_minor": 5
}
