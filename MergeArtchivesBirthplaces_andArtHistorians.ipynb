{
 "cells": [
  {
   "cell_type": "code",
   "execution_count": 4,
   "id": "694059cf",
   "metadata": {},
   "outputs": [],
   "source": [
    "import rdflib\n",
    "from rdflib import Namespace , Literal , URIRef\n",
    "from rdflib.namespace import RDF , RDFS"
   ]
  },
  {
   "cell_type": "code",
   "execution_count": 5,
   "id": "c6c0afcd",
   "metadata": {},
   "outputs": [],
   "source": [
    "g = rdflib.ConjunctiveGraph()\n",
    "\n",
    "# parse a local RDF file by specifying the format\n",
    "result = g.parse(\"C:\\\\Users\\\\bordi\\\\OneDrive\\\\Desktop\\\\DSProject\\\\LODtime\\\\artchives_birthplaces.nq\", format='nquads')"
   ]
  },
  {
   "cell_type": "code",
   "execution_count": 6,
   "id": "56e6e029",
   "metadata": {},
   "outputs": [],
   "source": [
    "wd = Namespace(\"http://www.wikidata.org/entity/\") # remember that a prefix matches a URI until the last slash (or hashtag #)\n",
    "wdt = Namespace(\"http://www.wikidata.org/prop/direct/\")\n",
    "art = Namespace(\"https://w3id.org/artchives/\")"
   ]
  },
  {
   "cell_type": "code",
   "execution_count": 7,
   "id": "9f8b40b4",
   "metadata": {},
   "outputs": [
    {
     "name": "stdout",
     "output_type": "stream",
     "text": [
      "{'<http://www.wikidata.org/entity/Q1715096>', '<http://www.wikidata.org/entity/Q1641821>', '<http://www.wikidata.org/entity/Q2824734>', '<http://www.wikidata.org/entity/Q60185>', '<http://www.wikidata.org/entity/Q88907>', '<http://www.wikidata.org/entity/Q457739>', '<http://www.wikidata.org/entity/Q1296486>', '<http://www.wikidata.org/entity/Q18935222>', '<http://www.wikidata.org/entity/Q1271052>', '<http://www.wikidata.org/entity/Q19997512>', '<http://www.wikidata.org/entity/Q61913691>', '<http://www.wikidata.org/entity/Q537874>', '<http://www.wikidata.org/entity/Q55453618>', '<http://www.wikidata.org/entity/Q995470>', '<http://www.wikidata.org/entity/Q1089074>', '<http://www.wikidata.org/entity/Q85761254>', '<http://www.wikidata.org/entity/Q1373290>', '<http://www.wikidata.org/entity/Q3051533>', '<http://www.wikidata.org/entity/Q1629748>', '<http://www.wikidata.org/entity/Q41616785>', '<http://www.wikidata.org/entity/Q3057287>', '<http://www.wikidata.org/entity/Q6700132>', '<http://www.wikidata.org/entity/Q90407>', '<http://www.wikidata.org/entity/Q1712683>'}\n"
     ]
    }
   ],
   "source": [
    "# Get the list of art historians in our graph \"g\"\n",
    "arthistorians_list = set()\n",
    "\n",
    "# iterate over the triples in the graph\n",
    "for s,p,o in g.triples(( None, wdt.P170, None)):   # people \"o\" are the creator \"wdt.P170\" of a collection \"s\"\n",
    "    if \"wikidata.org/entity/\" in str(o):           # look for the substring to filter wikidata entities only\n",
    "        arthistorians_list.add('<' + str(o) + '>')     # remember to transform them in strings! \n",
    "    \n",
    "print(arthistorians_list)"
   ]
  },
  {
   "cell_type": "code",
   "execution_count": null,
   "id": "5e471d52",
   "metadata": {},
   "outputs": [],
   "source": [
    "import json , pprint\n",
    "\n",
    "pp = pprint.PrettyPrinter(indent=1) # just to pretty print results\n",
    "\n",
    "with open('../resources/sparql_query_result.json','r') as results:\n",
    "    data = json.load(results)  \n",
    "    pprint.pprint(data)"
   ]
  }
 ],
 "metadata": {
  "kernelspec": {
   "display_name": "Python 3 (ipykernel)",
   "language": "python",
   "name": "python3"
  },
  "language_info": {
   "codemirror_mode": {
    "name": "ipython",
    "version": 3
   },
   "file_extension": ".py",
   "mimetype": "text/x-python",
   "name": "python",
   "nbconvert_exporter": "python",
   "pygments_lexer": "ipython3",
   "version": "3.7.9"
  }
 },
 "nbformat": 4,
 "nbformat_minor": 5
}
