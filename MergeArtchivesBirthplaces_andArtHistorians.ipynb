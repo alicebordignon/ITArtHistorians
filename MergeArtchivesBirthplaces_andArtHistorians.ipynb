{
 "cells": [
  {
   "cell_type": "code",
   "execution_count": 1,
   "id": "729014fa",
   "metadata": {},
   "outputs": [],
   "source": [
    "import rdflib\n",
    "from rdflib import Namespace , Literal , URIRef\n",
    "from rdflib.namespace import RDF , RDFS"
   ]
  },
  {
   "cell_type": "code",
   "execution_count": 2,
   "id": "7032f91b",
   "metadata": {},
   "outputs": [],
   "source": [
    "g = rdflib.ConjunctiveGraph()\n",
    "\n",
    "# parse a local RDF file by specifying the format\n",
    "result = g.parse(\"artchives_birthplaces.nq\", format='nquads')"
   ]
  },
  {
   "cell_type": "code",
   "execution_count": 3,
   "id": "4754329a",
   "metadata": {},
   "outputs": [],
   "source": [
    "wd = Namespace(\"http://www.wikidata.org/entity/\") # remember that a prefix matches a URI until the last slash (or hashtag #)\n",
    "wdt = Namespace(\"http://www.wikidata.org/prop/direct/\")\n",
    "art = Namespace(\"https://w3id.org/artchives/\")"
   ]
  },
  {
   "cell_type": "code",
   "execution_count": 4,
   "id": "2003d992",
   "metadata": {},
   "outputs": [
    {
     "name": "stdout",
     "output_type": "stream",
     "text": [
      "{'<http://www.wikidata.org/entity/Q1089074>', '<http://www.wikidata.org/entity/Q90407>', '<http://www.wikidata.org/entity/Q1296486>', '<http://www.wikidata.org/entity/Q6700132>', '<http://www.wikidata.org/entity/Q1715096>', '<http://www.wikidata.org/entity/Q457739>', '<http://www.wikidata.org/entity/Q60185>', '<http://www.wikidata.org/entity/Q1373290>', '<http://www.wikidata.org/entity/Q18935222>', '<http://www.wikidata.org/entity/Q55453618>', '<http://www.wikidata.org/entity/Q2824734>', '<http://www.wikidata.org/entity/Q1271052>', '<http://www.wikidata.org/entity/Q1641821>', '<http://www.wikidata.org/entity/Q19997512>', '<http://www.wikidata.org/entity/Q61913691>', '<http://www.wikidata.org/entity/Q995470>', '<http://www.wikidata.org/entity/Q1629748>', '<http://www.wikidata.org/entity/Q85761254>', '<http://www.wikidata.org/entity/Q3051533>', '<http://www.wikidata.org/entity/Q41616785>', '<http://www.wikidata.org/entity/Q3057287>', '<http://www.wikidata.org/entity/Q537874>', '<http://www.wikidata.org/entity/Q1712683>', '<http://www.wikidata.org/entity/Q88907>'}\n"
     ]
    }
   ],
   "source": [
    "# Get the list of art historians in our graph \"g\"\n",
    "arthistorians_list = set()\n",
    "\n",
    "# iterate over the triples in the graph\n",
    "for s,p,o in g.triples(( None, wdt.P170, None)):   \n",
    "    if \"wikidata.org/entity/\" in str(o):           \n",
    "        arthistorians_list.add('<' + str(o) + '>')     \n",
    "    \n",
    "print(arthistorians_list)"
   ]
  },
  {
   "cell_type": "code",
   "execution_count": 181,
   "id": "cc607823",
   "metadata": {},
   "outputs": [
    {
     "name": "stdout",
     "output_type": "stream",
     "text": [
      "set()\n"
     ]
    }
   ],
   "source": [
    "#volevo ottenere solo i labels degli storici ma qualcosa è sbagliato\n",
    "from rdflib.namespace import RDFS\n",
    "AH = set()\n",
    "\n",
    "for s,p,o in g.triples((wd.Q5, wdt.P170, None)):\n",
    "    for s1,p1,o1 in g.triples((RDFS.label, p, None)):\n",
    "        AH.add(s1.strip())\n",
    "        \n",
    "print(AH)"
   ]
  },
  {
   "cell_type": "code",
   "execution_count": 31,
   "id": "502b6c7e",
   "metadata": {},
   "outputs": [],
   "source": [
    "#vedo file degli storiciitaliani\n",
    "import pandas as pd\n",
    "data = pd.read_csv(\"DoAH_StoriciItaliani_csvseparatodavirgole.csv\",\n",
    "                    usecols=[\"Full Name\", \"Gender\", \"Archives\"])\n",
    "# axis 0 to drop the rows\n",
    "data.dropna(axis=0, subset=[\"Archives\"], inplace=True)\n",
    "data.drop_duplicates()\n",
    "data[\"Archives\"] = data[\"Archives\"].apply(lambda x: x.strip(\" ,.\").split(\",\"))\n",
    "data.to_pickle(\"database_degli_eroi.pickle\")"
   ]
  },
  {
   "cell_type": "code",
   "execution_count": 184,
   "id": "12c4b91d",
   "metadata": {},
   "outputs": [
    {
     "name": "stdout",
     "output_type": "stream",
     "text": [
      "                           Title  \\\n",
      "0               Accascina, Maria   \n",
      "1            Argan, Giulio Carlo   \n",
      "2               Bellosi, Luciano   \n",
      "3       Bertini Calosso, Achille   \n",
      "4   Bianchi Bandinelli, Ranuccio   \n",
      "5                  Boni, Giacomo   \n",
      "6                Bossi, Giuseppe   \n",
      "7                Brizio, Edoardo   \n",
      "8          Calvi, Girolamo-Luigi   \n",
      "9                    Carli, Enzo   \n",
      "10                Carocci, Guido   \n",
      "11       Castiglione, Baldassare   \n",
      "12                Cecchi, Emilio   \n",
      "13       Cesnola, Luigi Palma di   \n",
      "14    Cicognara, Leopoldo, Conte   \n",
      "15                Coletti, Luigi   \n",
      "16              Condivi, Ascanio   \n",
      "17              Croce, Benedetto   \n",
      "18               D'Ancona, Paolo   \n",
      "19          De Vecchi, Pierluigi   \n",
      "20                   Ragusa, Isa   \n",
      "21                Salerno, Luigi   \n",
      "22                Zeri, Federico   \n",
      "23                   Zevi, Bruno   \n",
      "\n",
      "                                             Archives  Overview  \n",
      "0   Comune di Palermo Concetta Di Natale, Maria Ma...         1  \n",
      "1                            Private Archive in Rome.         1  \n",
      "2   \\n\\tArchivio Lucino Bellosi, Biblioteca Umanis...         1  \n",
      "3   Fondo Bertini Calosso, Istituto Nazionale di A...         1  \n",
      "4   Ranuccio Bianchi Bandinelli, lâ€™Archivio di S...         1  \n",
      "5   Boni-Tea Archive, Istituto lombardo - Accademi...         1  \n",
      "6   Il Fondo Giuseppe Bossi, Biblioteca Ambrosiana...         1  \n",
      "7   Archivio Edoardo Brizio, Biblioteca comunale d...         1  \n",
      "8   Carte di Girolamo Luigi Calvi, UniversitÃ  deg...         1  \n",
      "9   Carli Enzo, Biblioteca Umanistica dellâ€™Unive...         1  \n",
      "10  Carocci Guido, Polo Museale Fiorentino, Biblio...         1  \n",
      "11  Castiglioni Archive, Palazzo Castiglione via S...         1  \n",
      "12  Cecchi Emilio, Gabinetto scientifico letterari...         1  \n",
      "13  Luigi Palma di Cesnola letters to various reci...         1  \n",
      "14  Leopoldo Cicognara letters, 1806-1833., Getty ...         1  \n",
      "15  Fondo famiglia Coletti, Fondazione Benetton. h...         1  \n",
      "16  Fondo Ascanio Condivi , Archivio Storico di Ri...         1  \n",
      "17  Lâ€™Archivio privato di Benedetto Croce, Fonda...         1  \n",
      "18  D'Ancona Paolo, Lombardia Beni Culturali. http...         1  \n",
      "19  Fondo De Vecchi, UniversitÃ  degli Studi di Mi...         1  \n",
      "20     Scuola dâ€™Italia Guglielmo Marconi, New York.         1  \n",
      "21  Luigi Salerno research papers, 1948-1996, Gett...         1  \n",
      "22  Federico Zeri Archives, Fondazione Federico Ze...         1  \n",
      "23  L'Archivio Bruno Zevi, Fondazione Bruno Zevi. ...         1  \n"
     ]
    }
   ],
   "source": [
    "#see all the rows \n",
    "\n",
    "data_by_historian = data.groupby( [\"Title\", \"Archives\"] ).size().reset_index()\n",
    "data_by_historian.columns = [\"Title\", \"Archives\", \"Overview\"]\n",
    "# see the first rows\n",
    "pd.set_option('display.max_rows', data.shape[0]+1)\n",
    "print(data_by_historian)"
   ]
  },
  {
   "cell_type": "code",
   "execution_count": 183,
   "id": "f8b5e1ad",
   "metadata": {},
   "outputs": [
    {
     "name": "stdout",
     "output_type": "stream",
     "text": [
      "['Accascina, Maria' 'Argan, Giulio Carlo' 'Bellosi, Luciano'\n",
      " 'Bertini Calosso, Achille' 'Bianchi Bandinelli, Ranuccio' 'Boni, Giacomo'\n",
      " 'Bossi, Giuseppe' 'Brizio, Edoardo' 'Calvi, Girolamo-Luigi' 'Carli, Enzo'\n",
      " 'Carocci, Guido' 'Castiglione, Baldassare' 'Cecchi, Emilio'\n",
      " 'Cesnola, Luigi Palma di' 'Cicognara, Leopoldo, Conte' 'Coletti, Luigi'\n",
      " 'Condivi, Ascanio' 'Croce, Benedetto' \"D'Ancona, Paolo\"\n",
      " 'De Vecchi, Pierluigi' 'Ragusa, Isa' 'Salerno, Luigi' 'Zeri, Federico'\n",
      " 'Zevi, Bruno']\n"
     ]
    }
   ],
   "source": [
    "unique_dictionaryofArtHistorians = data_by_historian[\"Title\"].unique()\n",
    "print(unique_dictionaryofArtHistorians)"
   ]
  },
  {
   "cell_type": "code",
   "execution_count": 171,
   "id": "e372509f",
   "metadata": {},
   "outputs": [
    {
     "name": "stdout",
     "output_type": "stream",
     "text": [
      "Maria Accascina\n",
      "Carlo Giulio Argan\n",
      "Luciano Bellosi\n",
      "Achille Calosso Bertini\n",
      "Ranuccio Bandinelli Bianchi\n",
      "Giacomo Boni\n",
      "Giuseppe Bossi\n",
      "Edoardo Brizio\n",
      "Girolamo-Luigi Calvi\n",
      "Enzo Carli\n",
      "Guido Carocci\n",
      "Baldassare Castiglione\n",
      "Emilio Cecchi\n",
      "di Palma Luigi Cesnola\n",
      "Conte Leopoldo Cicognara\n",
      "Luigi Coletti\n",
      "Ascanio Condivi\n",
      "Benedetto Croce\n",
      "Paolo D'Ancona\n",
      "Pierluigi Vecchi De\n",
      "Isa Ragusa\n",
      "Luigi Salerno\n",
      "Federico Zeri\n",
      "Bruno Zevi\n"
     ]
    }
   ],
   "source": [
    "#raddrizzo i nomi\n",
    "cleanHistorianSet = set()\n",
    "\n",
    "for i in unique_dictionaryofArtHistorians:\n",
    "    nocomma = i.replace(\",\", \"\")\n",
    "    splittiamo = nocomma.split(\" \")\n",
    "    invertiamonome_cognome = list(reversed(splittiamo))\n",
    "    join = ' '.join(invertiamonome_cognome)\n",
    "    cleanHistorianSet.add(join)\n",
    "    \n",
    "    print(join)"
   ]
  }
 ],
 "metadata": {
  "kernelspec": {
   "display_name": "Python 3 (ipykernel)",
   "language": "python",
   "name": "python3"
  },
  "language_info": {
   "codemirror_mode": {
    "name": "ipython",
    "version": 3
   },
   "file_extension": ".py",
   "mimetype": "text/x-python",
   "name": "python",
   "nbconvert_exporter": "python",
   "pygments_lexer": "ipython3",
   "version": "3.9.10"
  }
 },
 "nbformat": 4,
 "nbformat_minor": 5
}
